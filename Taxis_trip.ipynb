{
 "cells": [
  {
   "cell_type": "markdown",
   "metadata": {},
   "source": [
    "# Importing necessary libraries"
   ]
  },
  {
   "cell_type": "code",
   "execution_count": 63,
   "metadata": {},
   "outputs": [],
   "source": [
    "import pandas as pd\n",
    "import numpy as np\n",
    "from sklearn.model_selection import train_test_split\n",
    "from sklearn.metrics import mean_squared_error"
   ]
  },
  {
   "cell_type": "markdown",
   "metadata": {},
   "source": [
    "# Exploring data"
   ]
  },
  {
   "cell_type": "code",
   "execution_count": 64,
   "metadata": {},
   "outputs": [],
   "source": [
    "df=pd.read_csv('taxis_trip.csv')"
   ]
  },
  {
   "cell_type": "code",
   "execution_count": 65,
   "metadata": {},
   "outputs": [
    {
     "data": {
      "text/html": [
       "<div>\n",
       "<style scoped>\n",
       "    .dataframe tbody tr th:only-of-type {\n",
       "        vertical-align: middle;\n",
       "    }\n",
       "\n",
       "    .dataframe tbody tr th {\n",
       "        vertical-align: top;\n",
       "    }\n",
       "\n",
       "    .dataframe thead th {\n",
       "        text-align: right;\n",
       "    }\n",
       "</style>\n",
       "<table border=\"1\" class=\"dataframe\">\n",
       "  <thead>\n",
       "    <tr style=\"text-align: right;\">\n",
       "      <th></th>\n",
       "      <th>medallion</th>\n",
       "      <th>hack_license</th>\n",
       "      <th>vendor_id</th>\n",
       "      <th>rate_code</th>\n",
       "      <th>store_and_fwd_flag</th>\n",
       "      <th>pickup_datetime</th>\n",
       "      <th>dropoff_datetime</th>\n",
       "      <th>passenger_count</th>\n",
       "      <th>trip_time_in_secs</th>\n",
       "      <th>trip_distance</th>\n",
       "      <th>pickup_longitude</th>\n",
       "      <th>pickup_latitude</th>\n",
       "      <th>dropoff_longitude</th>\n",
       "      <th>dropoff_latitude</th>\n",
       "    </tr>\n",
       "  </thead>\n",
       "  <tbody>\n",
       "    <tr>\n",
       "      <td>0</td>\n",
       "      <td>89D227B655E5C82AECF13C3F540D4CF4</td>\n",
       "      <td>BA96DE419E711691B9445D6A6307C170</td>\n",
       "      <td>CMT</td>\n",
       "      <td>1</td>\n",
       "      <td>N</td>\n",
       "      <td>2013-01-01 15:11:48</td>\n",
       "      <td>2013-01-01 15:18:10</td>\n",
       "      <td>4</td>\n",
       "      <td>382</td>\n",
       "      <td>1.0</td>\n",
       "      <td>-73.978165</td>\n",
       "      <td>40.757977</td>\n",
       "      <td>-73.989838</td>\n",
       "      <td>40.751171</td>\n",
       "    </tr>\n",
       "    <tr>\n",
       "      <td>1</td>\n",
       "      <td>0BD7C8F5BA12B88E0B67BED28BEA73D8</td>\n",
       "      <td>9FD8F69F0804BDB5549F40E9DA1BE472</td>\n",
       "      <td>CMT</td>\n",
       "      <td>1</td>\n",
       "      <td>N</td>\n",
       "      <td>2013-01-06 00:18:35</td>\n",
       "      <td>2013-01-06 00:22:54</td>\n",
       "      <td>1</td>\n",
       "      <td>259</td>\n",
       "      <td>1.5</td>\n",
       "      <td>-74.006683</td>\n",
       "      <td>40.731781</td>\n",
       "      <td>-73.994499</td>\n",
       "      <td>40.750660</td>\n",
       "    </tr>\n",
       "    <tr>\n",
       "      <td>2</td>\n",
       "      <td>0BD7C8F5BA12B88E0B67BED28BEA73D8</td>\n",
       "      <td>9FD8F69F0804BDB5549F40E9DA1BE472</td>\n",
       "      <td>CMT</td>\n",
       "      <td>1</td>\n",
       "      <td>N</td>\n",
       "      <td>2013-01-05 18:49:41</td>\n",
       "      <td>2013-01-05 18:54:23</td>\n",
       "      <td>1</td>\n",
       "      <td>282</td>\n",
       "      <td>1.1</td>\n",
       "      <td>-74.004707</td>\n",
       "      <td>40.737770</td>\n",
       "      <td>-74.009834</td>\n",
       "      <td>40.726002</td>\n",
       "    </tr>\n",
       "    <tr>\n",
       "      <td>3</td>\n",
       "      <td>DFD2202EE08F7A8DC9A57B02ACB81FE2</td>\n",
       "      <td>51EE87E3205C985EF8431D850C786310</td>\n",
       "      <td>CMT</td>\n",
       "      <td>1</td>\n",
       "      <td>N</td>\n",
       "      <td>2013-01-07 23:54:15</td>\n",
       "      <td>2013-01-07 23:58:20</td>\n",
       "      <td>2</td>\n",
       "      <td>244</td>\n",
       "      <td>0.7</td>\n",
       "      <td>-73.974602</td>\n",
       "      <td>40.759945</td>\n",
       "      <td>-73.984734</td>\n",
       "      <td>40.759388</td>\n",
       "    </tr>\n",
       "    <tr>\n",
       "      <td>4</td>\n",
       "      <td>DFD2202EE08F7A8DC9A57B02ACB81FE2</td>\n",
       "      <td>51EE87E3205C985EF8431D850C786310</td>\n",
       "      <td>CMT</td>\n",
       "      <td>1</td>\n",
       "      <td>N</td>\n",
       "      <td>2013-01-07 23:25:03</td>\n",
       "      <td>2013-01-07 23:34:24</td>\n",
       "      <td>1</td>\n",
       "      <td>560</td>\n",
       "      <td>2.1</td>\n",
       "      <td>-73.976250</td>\n",
       "      <td>40.748528</td>\n",
       "      <td>-74.002586</td>\n",
       "      <td>40.747868</td>\n",
       "    </tr>\n",
       "  </tbody>\n",
       "</table>\n",
       "</div>"
      ],
      "text/plain": [
       "                          medallion                      hack_license  \\\n",
       "0  89D227B655E5C82AECF13C3F540D4CF4  BA96DE419E711691B9445D6A6307C170   \n",
       "1  0BD7C8F5BA12B88E0B67BED28BEA73D8  9FD8F69F0804BDB5549F40E9DA1BE472   \n",
       "2  0BD7C8F5BA12B88E0B67BED28BEA73D8  9FD8F69F0804BDB5549F40E9DA1BE472   \n",
       "3  DFD2202EE08F7A8DC9A57B02ACB81FE2  51EE87E3205C985EF8431D850C786310   \n",
       "4  DFD2202EE08F7A8DC9A57B02ACB81FE2  51EE87E3205C985EF8431D850C786310   \n",
       "\n",
       "  vendor_id  rate_code store_and_fwd_flag      pickup_datetime  \\\n",
       "0       CMT          1                  N  2013-01-01 15:11:48   \n",
       "1       CMT          1                  N  2013-01-06 00:18:35   \n",
       "2       CMT          1                  N  2013-01-05 18:49:41   \n",
       "3       CMT          1                  N  2013-01-07 23:54:15   \n",
       "4       CMT          1                  N  2013-01-07 23:25:03   \n",
       "\n",
       "      dropoff_datetime  passenger_count  trip_time_in_secs  trip_distance  \\\n",
       "0  2013-01-01 15:18:10                4                382            1.0   \n",
       "1  2013-01-06 00:22:54                1                259            1.5   \n",
       "2  2013-01-05 18:54:23                1                282            1.1   \n",
       "3  2013-01-07 23:58:20                2                244            0.7   \n",
       "4  2013-01-07 23:34:24                1                560            2.1   \n",
       "\n",
       "   pickup_longitude  pickup_latitude  dropoff_longitude  dropoff_latitude  \n",
       "0        -73.978165        40.757977         -73.989838         40.751171  \n",
       "1        -74.006683        40.731781         -73.994499         40.750660  \n",
       "2        -74.004707        40.737770         -74.009834         40.726002  \n",
       "3        -73.974602        40.759945         -73.984734         40.759388  \n",
       "4        -73.976250        40.748528         -74.002586         40.747868  "
      ]
     },
     "execution_count": 65,
     "metadata": {},
     "output_type": "execute_result"
    }
   ],
   "source": [
    "df.head()"
   ]
  },
  {
   "cell_type": "code",
   "execution_count": 66,
   "metadata": {},
   "outputs": [
    {
     "name": "stdout",
     "output_type": "stream",
     "text": [
      "<class 'pandas.core.frame.DataFrame'>\n",
      "RangeIndex: 100000 entries, 0 to 99999\n",
      "Data columns (total 14 columns):\n",
      "medallion             100000 non-null object\n",
      "hack_license          100000 non-null object\n",
      "vendor_id             100000 non-null object\n",
      "rate_code             100000 non-null int64\n",
      "store_and_fwd_flag    373 non-null object\n",
      "pickup_datetime       100000 non-null object\n",
      "dropoff_datetime      100000 non-null object\n",
      "passenger_count       100000 non-null int64\n",
      "trip_time_in_secs     100000 non-null int64\n",
      "trip_distance         100000 non-null float64\n",
      "pickup_longitude      100000 non-null float64\n",
      "pickup_latitude       100000 non-null float64\n",
      "dropoff_longitude     100000 non-null float64\n",
      "dropoff_latitude      100000 non-null float64\n",
      "dtypes: float64(5), int64(3), object(6)\n",
      "memory usage: 10.7+ MB\n"
     ]
    }
   ],
   "source": [
    "df.info()"
   ]
  },
  {
   "cell_type": "markdown",
   "metadata": {},
   "source": [
    "# Step1: computing the mean"
   ]
  },
  {
   "cell_type": "code",
   "execution_count": 67,
   "metadata": {},
   "outputs": [],
   "source": [
    "train_df,valid_df=train_test_split(df,test_size=.2,random_state=42)"
   ]
  },
  {
   "cell_type": "code",
   "execution_count": 68,
   "metadata": {},
   "outputs": [],
   "source": [
    "trip_duration_mean=train_df['trip_time_in_secs'].mean()"
   ]
  },
  {
   "cell_type": "code",
   "execution_count": 69,
   "metadata": {},
   "outputs": [
    {
     "name": "stderr",
     "output_type": "stream",
     "text": [
      "C:\\Users\\HP\\Anaconda3\\lib\\site-packages\\ipykernel_launcher.py:1: SettingWithCopyWarning: \n",
      "A value is trying to be set on a copy of a slice from a DataFrame.\n",
      "Try using .loc[row_indexer,col_indexer] = value instead\n",
      "\n",
      "See the caveats in the documentation: http://pandas.pydata.org/pandas-docs/stable/user_guide/indexing.html#returning-a-view-versus-a-copy\n",
      "  \"\"\"Entry point for launching an IPython kernel.\n"
     ]
    }
   ],
   "source": [
    "valid_df['prediction']=trip_duration_mean"
   ]
  },
  {
   "cell_type": "code",
   "execution_count": 70,
   "metadata": {},
   "outputs": [
    {
     "data": {
      "text/plain": [
       "215175.43446959893"
      ]
     },
     "execution_count": 70,
     "metadata": {},
     "output_type": "execute_result"
    }
   ],
   "source": [
    "pred=valid_df['prediction']\n",
    "label=valid_df['trip_time_in_secs']\n",
    "mean_squared_error(label,pred)"
   ]
  },
  {
   "cell_type": "code",
   "execution_count": 71,
   "metadata": {},
   "outputs": [],
   "source": [
    "# As you can see it is a huge number and in mse the smaller the better ,\n",
    "#so we will try to use machine learning to improve the accuracy and reduce the error"
   ]
  },
  {
   "cell_type": "markdown",
   "metadata": {},
   "source": [
    "# First:- Data Preparation"
   ]
  },
  {
   "cell_type": "code",
   "execution_count": 72,
   "metadata": {},
   "outputs": [],
   "source": [
    "# As you know 80% of the machine learning work is basically data cleaning \n",
    "#so before we use our linear models let's prepare the data so that our model can learn the best \n",
    "#from it and get optimal results."
   ]
  },
  {
   "cell_type": "code",
   "execution_count": 73,
   "metadata": {},
   "outputs": [
    {
     "data": {
      "text/plain": [
       "99627"
      ]
     },
     "execution_count": 73,
     "metadata": {},
     "output_type": "execute_result"
    }
   ],
   "source": [
    "df['store_and_fwd_flag'].isna().sum()"
   ]
  },
  {
   "cell_type": "code",
   "execution_count": 74,
   "metadata": {},
   "outputs": [],
   "source": [
    "# as you can see this column is not useful at all to our model since it contains\n",
    "#too many null values,so we will drop it"
   ]
  },
  {
   "cell_type": "code",
   "execution_count": 75,
   "metadata": {},
   "outputs": [],
   "source": [
    "# as you can see the date columns are object ,so we start by converting them to datetime object.\n",
    "\n",
    "df[\"dropoff_datetime\"] = pd.to_datetime(df[\"dropoff_datetime\"], format='%Y-%m-%d %H:%M:%S')\n",
    "df[\"pickup_datetime\"] = pd.to_datetime(df[\"pickup_datetime\"], format='%Y-%m-%d %H:%M:%S')"
   ]
  },
  {
   "cell_type": "code",
   "execution_count": 76,
   "metadata": {},
   "outputs": [],
   "source": [
    "df[\"pickup_month\"] = df[\"pickup_datetime\"].dt.month\n",
    "df[\"pickup_day\"] = df[\"pickup_datetime\"].dt.day\n",
    "df[\"pickup_weekday\"] = df[\"pickup_datetime\"].dt.weekday\n",
    "df[\"pickup_hour\"] = df[\"pickup_datetime\"].dt.hour\n",
    "df[\"pickup_minute\"] = df[\"pickup_datetime\"].dt.minute\n"
   ]
  },
  {
   "cell_type": "markdown",
   "metadata": {},
   "source": [
    "# Data Visualization"
   ]
  },
  {
   "cell_type": "code",
   "execution_count": 78,
   "metadata": {},
   "outputs": [
    {
     "data": {
      "image/png": "[encoded data removed]",
      "text/plain": [
       "<Figure size 432x288 with 1 Axes>"
      ]
     },
     "metadata": {
      "needs_background": "light"
     },
     "output_type": "display_data"
    }
   ],
   "source": [
    "import seaborn as sns\n",
    "import matplotlib.pyplot as plt\n",
    "sns.scatterplot(data=df, x=\"trip_distance\", y=\"trip_time_in_secs\")\n",
    "plt.show()"
   ]
  },
  {
   "cell_type": "code",
   "execution_count": 79,
   "metadata": {},
   "outputs": [],
   "source": [
    "# as you can see from the graph there is almost a linear relation between distance and time , which makes sense\n",
    "# on the hand I believe there are some ouliers which will reduce our model performance\n",
    "# so let's filter them out"
   ]
  },
  {
   "cell_type": "code",
   "execution_count": 80,
   "metadata": {},
   "outputs": [],
   "source": [
    "df=df[df['trip_time_in_secs']<=5000]"
   ]
  },
  {
   "cell_type": "code",
   "execution_count": 81,
   "metadata": {},
   "outputs": [],
   "source": [
    "df=df[df['trip_distance']<=40]"
   ]
  },
  {
   "cell_type": "code",
   "execution_count": 82,
   "metadata": {},
   "outputs": [
    {
     "data": {
      "image/png": "[encoded data removed]",
      "text/plain": [
       "<Figure size 432x288 with 1 Axes>"
      ]
     },
     "metadata": {
      "needs_background": "light"
     },
     "output_type": "display_data"
    }
   ],
   "source": [
    "sns.scatterplot(data=df, x=\"trip_distance\", y=\"trip_time_in_secs\")\n",
    "plt.show()"
   ]
  },
  {
   "cell_type": "code",
   "execution_count": 83,
   "metadata": {},
   "outputs": [],
   "source": [
    "# now that is more like it"
   ]
  },
  {
   "cell_type": "code",
   "execution_count": null,
   "metadata": {},
   "outputs": [],
   "source": []
  },
  {
   "cell_type": "code",
   "execution_count": 84,
   "metadata": {},
   "outputs": [
    {
     "data": {
      "text/html": [
       "<div>\n",
       "<style scoped>\n",
       "    .dataframe tbody tr th:only-of-type {\n",
       "        vertical-align: middle;\n",
       "    }\n",
       "\n",
       "    .dataframe tbody tr th {\n",
       "        vertical-align: top;\n",
       "    }\n",
       "\n",
       "    .dataframe thead th {\n",
       "        text-align: right;\n",
       "    }\n",
       "</style>\n",
       "<table border=\"1\" class=\"dataframe\">\n",
       "  <thead>\n",
       "    <tr style=\"text-align: right;\">\n",
       "      <th></th>\n",
       "      <th>medallion</th>\n",
       "      <th>hack_license</th>\n",
       "      <th>vendor_id</th>\n",
       "      <th>rate_code</th>\n",
       "      <th>store_and_fwd_flag</th>\n",
       "      <th>pickup_datetime</th>\n",
       "      <th>dropoff_datetime</th>\n",
       "      <th>passenger_count</th>\n",
       "      <th>trip_time_in_secs</th>\n",
       "      <th>trip_distance</th>\n",
       "      <th>pickup_longitude</th>\n",
       "      <th>pickup_latitude</th>\n",
       "      <th>dropoff_longitude</th>\n",
       "      <th>dropoff_latitude</th>\n",
       "      <th>pickup_month</th>\n",
       "      <th>pickup_day</th>\n",
       "      <th>pickup_weekday</th>\n",
       "      <th>pickup_hour</th>\n",
       "      <th>pickup_minute</th>\n",
       "    </tr>\n",
       "  </thead>\n",
       "  <tbody>\n",
       "    <tr>\n",
       "      <td>324</td>\n",
       "      <td>D83BF451B46974F22850BA3DBBA7729E</td>\n",
       "      <td>70211D5E293D6F009DC28965639A2EC2</td>\n",
       "      <td>VTS</td>\n",
       "      <td>2</td>\n",
       "      <td>NaN</td>\n",
       "      <td>2013-01-13 11:14:00</td>\n",
       "      <td>2013-01-13 11:14:00</td>\n",
       "      <td>1</td>\n",
       "      <td>0</td>\n",
       "      <td>0.01</td>\n",
       "      <td>-73.991867</td>\n",
       "      <td>40.758301</td>\n",
       "      <td>-73.985252</td>\n",
       "      <td>40.755203</td>\n",
       "      <td>1</td>\n",
       "      <td>13</td>\n",
       "      <td>6</td>\n",
       "      <td>11</td>\n",
       "      <td>14</td>\n",
       "    </tr>\n",
       "    <tr>\n",
       "      <td>473</td>\n",
       "      <td>D57C7392455C38D9404660F7BC63D1B6</td>\n",
       "      <td>8B32D59D8277E765E95BC45565C120F3</td>\n",
       "      <td>VTS</td>\n",
       "      <td>5</td>\n",
       "      <td>NaN</td>\n",
       "      <td>2013-01-13 11:10:00</td>\n",
       "      <td>2013-01-13 11:10:00</td>\n",
       "      <td>1</td>\n",
       "      <td>0</td>\n",
       "      <td>0.00</td>\n",
       "      <td>0.000000</td>\n",
       "      <td>0.000000</td>\n",
       "      <td>0.000000</td>\n",
       "      <td>0.000000</td>\n",
       "      <td>1</td>\n",
       "      <td>13</td>\n",
       "      <td>6</td>\n",
       "      <td>11</td>\n",
       "      <td>10</td>\n",
       "    </tr>\n",
       "    <tr>\n",
       "      <td>859</td>\n",
       "      <td>19BF1BB516C4E992EA3FBAEDA73D6262</td>\n",
       "      <td>E4CAC9101BFE631554B57906364761D3</td>\n",
       "      <td>VTS</td>\n",
       "      <td>2</td>\n",
       "      <td>NaN</td>\n",
       "      <td>2013-01-13 10:33:00</td>\n",
       "      <td>2013-01-13 10:33:00</td>\n",
       "      <td>5</td>\n",
       "      <td>0</td>\n",
       "      <td>0.00</td>\n",
       "      <td>0.000000</td>\n",
       "      <td>0.000000</td>\n",
       "      <td>0.000000</td>\n",
       "      <td>0.000000</td>\n",
       "      <td>1</td>\n",
       "      <td>13</td>\n",
       "      <td>6</td>\n",
       "      <td>10</td>\n",
       "      <td>33</td>\n",
       "    </tr>\n",
       "    <tr>\n",
       "      <td>899</td>\n",
       "      <td>D57C7392455C38D9404660F7BC63D1B6</td>\n",
       "      <td>EC5837D805127379D72FF6C35279890B</td>\n",
       "      <td>VTS</td>\n",
       "      <td>1</td>\n",
       "      <td>NaN</td>\n",
       "      <td>2013-01-13 04:58:00</td>\n",
       "      <td>2013-01-13 04:58:00</td>\n",
       "      <td>1</td>\n",
       "      <td>0</td>\n",
       "      <td>0.05</td>\n",
       "      <td>0.000000</td>\n",
       "      <td>0.000000</td>\n",
       "      <td>0.000000</td>\n",
       "      <td>0.000000</td>\n",
       "      <td>1</td>\n",
       "      <td>13</td>\n",
       "      <td>6</td>\n",
       "      <td>4</td>\n",
       "      <td>58</td>\n",
       "    </tr>\n",
       "    <tr>\n",
       "      <td>1059</td>\n",
       "      <td>67108EDF8123623806A1DAFE8811EE63</td>\n",
       "      <td>36C9437BD2FF31940BEBED44DDDDDB8A</td>\n",
       "      <td>VTS</td>\n",
       "      <td>5</td>\n",
       "      <td>NaN</td>\n",
       "      <td>2013-01-13 04:58:00</td>\n",
       "      <td>2013-01-13 04:58:00</td>\n",
       "      <td>1</td>\n",
       "      <td>0</td>\n",
       "      <td>0.00</td>\n",
       "      <td>0.000000</td>\n",
       "      <td>0.000000</td>\n",
       "      <td>0.000000</td>\n",
       "      <td>0.000000</td>\n",
       "      <td>1</td>\n",
       "      <td>13</td>\n",
       "      <td>6</td>\n",
       "      <td>4</td>\n",
       "      <td>58</td>\n",
       "    </tr>\n",
       "    <tr>\n",
       "      <td>...</td>\n",
       "      <td>...</td>\n",
       "      <td>...</td>\n",
       "      <td>...</td>\n",
       "      <td>...</td>\n",
       "      <td>...</td>\n",
       "      <td>...</td>\n",
       "      <td>...</td>\n",
       "      <td>...</td>\n",
       "      <td>...</td>\n",
       "      <td>...</td>\n",
       "      <td>...</td>\n",
       "      <td>...</td>\n",
       "      <td>...</td>\n",
       "      <td>...</td>\n",
       "      <td>...</td>\n",
       "      <td>...</td>\n",
       "      <td>...</td>\n",
       "      <td>...</td>\n",
       "      <td>...</td>\n",
       "    </tr>\n",
       "    <tr>\n",
       "      <td>99016</td>\n",
       "      <td>3541D0677EEEA07B67E645E12F04F517</td>\n",
       "      <td>5514E59A5CEA0379EA6F7F12ABE87489</td>\n",
       "      <td>VTS</td>\n",
       "      <td>1</td>\n",
       "      <td>NaN</td>\n",
       "      <td>2013-01-13 17:37:00</td>\n",
       "      <td>2013-01-13 17:37:00</td>\n",
       "      <td>1</td>\n",
       "      <td>0</td>\n",
       "      <td>0.03</td>\n",
       "      <td>0.000000</td>\n",
       "      <td>0.000000</td>\n",
       "      <td>0.000000</td>\n",
       "      <td>0.000000</td>\n",
       "      <td>1</td>\n",
       "      <td>13</td>\n",
       "      <td>6</td>\n",
       "      <td>17</td>\n",
       "      <td>37</td>\n",
       "    </tr>\n",
       "    <tr>\n",
       "      <td>99209</td>\n",
       "      <td>5562E98BA4BD4057E5626F1C64AF72B3</td>\n",
       "      <td>B850A506A372259D59D4D8423E0FD0DD</td>\n",
       "      <td>VTS</td>\n",
       "      <td>1</td>\n",
       "      <td>NaN</td>\n",
       "      <td>2013-01-13 17:03:00</td>\n",
       "      <td>2013-01-13 17:03:00</td>\n",
       "      <td>1</td>\n",
       "      <td>0</td>\n",
       "      <td>0.00</td>\n",
       "      <td>-74.008430</td>\n",
       "      <td>40.714352</td>\n",
       "      <td>-74.008247</td>\n",
       "      <td>40.714512</td>\n",
       "      <td>1</td>\n",
       "      <td>13</td>\n",
       "      <td>6</td>\n",
       "      <td>17</td>\n",
       "      <td>3</td>\n",
       "    </tr>\n",
       "    <tr>\n",
       "      <td>99595</td>\n",
       "      <td>C55D5C56D4C88F3EB9BB754232B36648</td>\n",
       "      <td>D9CC895746042198E4DBD514AE08E99C</td>\n",
       "      <td>VTS</td>\n",
       "      <td>2</td>\n",
       "      <td>NaN</td>\n",
       "      <td>2013-01-13 17:39:00</td>\n",
       "      <td>2013-01-13 17:39:00</td>\n",
       "      <td>2</td>\n",
       "      <td>0</td>\n",
       "      <td>0.03</td>\n",
       "      <td>-73.994064</td>\n",
       "      <td>40.756783</td>\n",
       "      <td>-73.993607</td>\n",
       "      <td>40.756721</td>\n",
       "      <td>1</td>\n",
       "      <td>13</td>\n",
       "      <td>6</td>\n",
       "      <td>17</td>\n",
       "      <td>39</td>\n",
       "    </tr>\n",
       "    <tr>\n",
       "      <td>99654</td>\n",
       "      <td>CAAD4751DFACEB196B094256D2A24F33</td>\n",
       "      <td>FA39FF80332DDF9D426F7E8763B9FC3E</td>\n",
       "      <td>VTS</td>\n",
       "      <td>2</td>\n",
       "      <td>NaN</td>\n",
       "      <td>2013-01-13 16:30:00</td>\n",
       "      <td>2013-01-13 16:30:00</td>\n",
       "      <td>5</td>\n",
       "      <td>0</td>\n",
       "      <td>0.00</td>\n",
       "      <td>-73.991951</td>\n",
       "      <td>40.748997</td>\n",
       "      <td>-73.992096</td>\n",
       "      <td>40.749065</td>\n",
       "      <td>1</td>\n",
       "      <td>13</td>\n",
       "      <td>6</td>\n",
       "      <td>16</td>\n",
       "      <td>30</td>\n",
       "    </tr>\n",
       "    <tr>\n",
       "      <td>99899</td>\n",
       "      <td>BE0396EBC842E52F724D6E724900C117</td>\n",
       "      <td>2A43B8DCB392C65C552DF21BDFE4D70F</td>\n",
       "      <td>VTS</td>\n",
       "      <td>5</td>\n",
       "      <td>NaN</td>\n",
       "      <td>2013-01-13 17:36:00</td>\n",
       "      <td>2013-01-13 17:36:00</td>\n",
       "      <td>1</td>\n",
       "      <td>0</td>\n",
       "      <td>0.00</td>\n",
       "      <td>0.000000</td>\n",
       "      <td>0.000000</td>\n",
       "      <td>0.000000</td>\n",
       "      <td>0.000000</td>\n",
       "      <td>1</td>\n",
       "      <td>13</td>\n",
       "      <td>6</td>\n",
       "      <td>17</td>\n",
       "      <td>36</td>\n",
       "    </tr>\n",
       "  </tbody>\n",
       "</table>\n",
       "<p>449 rows × 19 columns</p>\n",
       "</div>"
      ],
      "text/plain": [
       "                              medallion                      hack_license  \\\n",
       "324    D83BF451B46974F22850BA3DBBA7729E  70211D5E293D6F009DC28965639A2EC2   \n",
       "473    D57C7392455C38D9404660F7BC63D1B6  8B32D59D8277E765E95BC45565C120F3   \n",
       "859    19BF1BB516C4E992EA3FBAEDA73D6262  E4CAC9101BFE631554B57906364761D3   \n",
       "899    D57C7392455C38D9404660F7BC63D1B6  EC5837D805127379D72FF6C35279890B   \n",
       "1059   67108EDF8123623806A1DAFE8811EE63  36C9437BD2FF31940BEBED44DDDDDB8A   \n",
       "...                                 ...                               ...   \n",
       "99016  3541D0677EEEA07B67E645E12F04F517  5514E59A5CEA0379EA6F7F12ABE87489   \n",
       "99209  5562E98BA4BD4057E5626F1C64AF72B3  B850A506A372259D59D4D8423E0FD0DD   \n",
       "99595  C55D5C56D4C88F3EB9BB754232B36648  D9CC895746042198E4DBD514AE08E99C   \n",
       "99654  CAAD4751DFACEB196B094256D2A24F33  FA39FF80332DDF9D426F7E8763B9FC3E   \n",
       "99899  BE0396EBC842E52F724D6E724900C117  2A43B8DCB392C65C552DF21BDFE4D70F   \n",
       "\n",
       "      vendor_id  rate_code store_and_fwd_flag     pickup_datetime  \\\n",
       "324         VTS          2                NaN 2013-01-13 11:14:00   \n",
       "473         VTS          5                NaN 2013-01-13 11:10:00   \n",
       "859         VTS          2                NaN 2013-01-13 10:33:00   \n",
       "899         VTS          1                NaN 2013-01-13 04:58:00   \n",
       "1059        VTS          5                NaN 2013-01-13 04:58:00   \n",
       "...         ...        ...                ...                 ...   \n",
       "99016       VTS          1                NaN 2013-01-13 17:37:00   \n",
       "99209       VTS          1                NaN 2013-01-13 17:03:00   \n",
       "99595       VTS          2                NaN 2013-01-13 17:39:00   \n",
       "99654       VTS          2                NaN 2013-01-13 16:30:00   \n",
       "99899       VTS          5                NaN 2013-01-13 17:36:00   \n",
       "\n",
       "         dropoff_datetime  passenger_count  trip_time_in_secs  trip_distance  \\\n",
       "324   2013-01-13 11:14:00                1                  0           0.01   \n",
       "473   2013-01-13 11:10:00                1                  0           0.00   \n",
       "859   2013-01-13 10:33:00                5                  0           0.00   \n",
       "899   2013-01-13 04:58:00                1                  0           0.05   \n",
       "1059  2013-01-13 04:58:00                1                  0           0.00   \n",
       "...                   ...              ...                ...            ...   \n",
       "99016 2013-01-13 17:37:00                1                  0           0.03   \n",
       "99209 2013-01-13 17:03:00                1                  0           0.00   \n",
       "99595 2013-01-13 17:39:00                2                  0           0.03   \n",
       "99654 2013-01-13 16:30:00                5                  0           0.00   \n",
       "99899 2013-01-13 17:36:00                1                  0           0.00   \n",
       "\n",
       "       pickup_longitude  pickup_latitude  dropoff_longitude  dropoff_latitude  \\\n",
       "324          -73.991867        40.758301         -73.985252         40.755203   \n",
       "473            0.000000         0.000000           0.000000          0.000000   \n",
       "859            0.000000         0.000000           0.000000          0.000000   \n",
       "899            0.000000         0.000000           0.000000          0.000000   \n",
       "1059           0.000000         0.000000           0.000000          0.000000   \n",
       "...                 ...              ...                ...               ...   \n",
       "99016          0.000000         0.000000           0.000000          0.000000   \n",
       "99209        -74.008430        40.714352         -74.008247         40.714512   \n",
       "99595        -73.994064        40.756783         -73.993607         40.756721   \n",
       "99654        -73.991951        40.748997         -73.992096         40.749065   \n",
       "99899          0.000000         0.000000           0.000000          0.000000   \n",
       "\n",
       "       pickup_month  pickup_day  pickup_weekday  pickup_hour  pickup_minute  \n",
       "324               1          13               6           11             14  \n",
       "473               1          13               6           11             10  \n",
       "859               1          13               6           10             33  \n",
       "899               1          13               6            4             58  \n",
       "1059              1          13               6            4             58  \n",
       "...             ...         ...             ...          ...            ...  \n",
       "99016             1          13               6           17             37  \n",
       "99209             1          13               6           17              3  \n",
       "99595             1          13               6           17             39  \n",
       "99654             1          13               6           16             30  \n",
       "99899             1          13               6           17             36  \n",
       "\n",
       "[449 rows x 19 columns]"
      ]
     },
     "execution_count": 84,
     "metadata": {},
     "output_type": "execute_result"
    }
   ],
   "source": [
    "df[df['trip_time_in_secs']==0]"
   ]
  },
  {
   "cell_type": "code",
   "execution_count": 85,
   "metadata": {},
   "outputs": [
    {
     "data": {
      "text/html": [
       "<div>\n",
       "<style scoped>\n",
       "    .dataframe tbody tr th:only-of-type {\n",
       "        vertical-align: middle;\n",
       "    }\n",
       "\n",
       "    .dataframe tbody tr th {\n",
       "        vertical-align: top;\n",
       "    }\n",
       "\n",
       "    .dataframe thead th {\n",
       "        text-align: right;\n",
       "    }\n",
       "</style>\n",
       "<table border=\"1\" class=\"dataframe\">\n",
       "  <thead>\n",
       "    <tr style=\"text-align: right;\">\n",
       "      <th></th>\n",
       "      <th>medallion</th>\n",
       "      <th>hack_license</th>\n",
       "      <th>vendor_id</th>\n",
       "      <th>rate_code</th>\n",
       "      <th>store_and_fwd_flag</th>\n",
       "      <th>pickup_datetime</th>\n",
       "      <th>dropoff_datetime</th>\n",
       "      <th>passenger_count</th>\n",
       "      <th>trip_time_in_secs</th>\n",
       "      <th>trip_distance</th>\n",
       "      <th>pickup_longitude</th>\n",
       "      <th>pickup_latitude</th>\n",
       "      <th>dropoff_longitude</th>\n",
       "      <th>dropoff_latitude</th>\n",
       "      <th>pickup_month</th>\n",
       "      <th>pickup_day</th>\n",
       "      <th>pickup_weekday</th>\n",
       "      <th>pickup_hour</th>\n",
       "      <th>pickup_minute</th>\n",
       "    </tr>\n",
       "  </thead>\n",
       "  <tbody>\n",
       "    <tr>\n",
       "      <td>88</td>\n",
       "      <td>20D9ECB2CA0767CF7A01564DF2844A3E</td>\n",
       "      <td>598CCE5B9C1918568DEE71F43CF26CD2</td>\n",
       "      <td>CMT</td>\n",
       "      <td>1</td>\n",
       "      <td>N</td>\n",
       "      <td>2013-01-08 07:51:16</td>\n",
       "      <td>2013-01-08 07:51:20</td>\n",
       "      <td>1</td>\n",
       "      <td>4</td>\n",
       "      <td>0.0</td>\n",
       "      <td>-73.945396</td>\n",
       "      <td>40.802090</td>\n",
       "      <td>-73.945412</td>\n",
       "      <td>40.802025</td>\n",
       "      <td>1</td>\n",
       "      <td>8</td>\n",
       "      <td>1</td>\n",
       "      <td>7</td>\n",
       "      <td>51</td>\n",
       "    </tr>\n",
       "    <tr>\n",
       "      <td>308</td>\n",
       "      <td>66764B77F96DF43315499D73AA6DD84E</td>\n",
       "      <td>FA094478696E177A9724AAE5C5CF977C</td>\n",
       "      <td>VTS</td>\n",
       "      <td>1</td>\n",
       "      <td>NaN</td>\n",
       "      <td>2013-01-13 11:11:00</td>\n",
       "      <td>2013-01-13 11:13:00</td>\n",
       "      <td>1</td>\n",
       "      <td>120</td>\n",
       "      <td>0.0</td>\n",
       "      <td>-74.004791</td>\n",
       "      <td>40.725842</td>\n",
       "      <td>-74.004868</td>\n",
       "      <td>40.725876</td>\n",
       "      <td>1</td>\n",
       "      <td>13</td>\n",
       "      <td>6</td>\n",
       "      <td>11</td>\n",
       "      <td>11</td>\n",
       "    </tr>\n",
       "    <tr>\n",
       "      <td>473</td>\n",
       "      <td>D57C7392455C38D9404660F7BC63D1B6</td>\n",
       "      <td>8B32D59D8277E765E95BC45565C120F3</td>\n",
       "      <td>VTS</td>\n",
       "      <td>5</td>\n",
       "      <td>NaN</td>\n",
       "      <td>2013-01-13 11:10:00</td>\n",
       "      <td>2013-01-13 11:10:00</td>\n",
       "      <td>1</td>\n",
       "      <td>0</td>\n",
       "      <td>0.0</td>\n",
       "      <td>0.000000</td>\n",
       "      <td>0.000000</td>\n",
       "      <td>0.000000</td>\n",
       "      <td>0.000000</td>\n",
       "      <td>1</td>\n",
       "      <td>13</td>\n",
       "      <td>6</td>\n",
       "      <td>11</td>\n",
       "      <td>10</td>\n",
       "    </tr>\n",
       "    <tr>\n",
       "      <td>496</td>\n",
       "      <td>2886A4D0E61E8FAD6604A02A50F1A318</td>\n",
       "      <td>E3199D5923AEBE5B40A822068CACC8D0</td>\n",
       "      <td>VTS</td>\n",
       "      <td>5</td>\n",
       "      <td>NaN</td>\n",
       "      <td>2013-01-13 04:51:00</td>\n",
       "      <td>2013-01-13 04:52:00</td>\n",
       "      <td>1</td>\n",
       "      <td>60</td>\n",
       "      <td>0.0</td>\n",
       "      <td>-73.861534</td>\n",
       "      <td>40.889069</td>\n",
       "      <td>-73.861534</td>\n",
       "      <td>40.889069</td>\n",
       "      <td>1</td>\n",
       "      <td>13</td>\n",
       "      <td>6</td>\n",
       "      <td>4</td>\n",
       "      <td>51</td>\n",
       "    </tr>\n",
       "    <tr>\n",
       "      <td>622</td>\n",
       "      <td>232840CC49C3846876B29C434104F356</td>\n",
       "      <td>C740F0FCA87B7F2C5E0B779D19BA3504</td>\n",
       "      <td>VTS</td>\n",
       "      <td>5</td>\n",
       "      <td>NaN</td>\n",
       "      <td>2013-01-13 04:38:00</td>\n",
       "      <td>2013-01-13 04:39:00</td>\n",
       "      <td>2</td>\n",
       "      <td>60</td>\n",
       "      <td>0.0</td>\n",
       "      <td>0.000000</td>\n",
       "      <td>0.000000</td>\n",
       "      <td>0.000000</td>\n",
       "      <td>0.000000</td>\n",
       "      <td>1</td>\n",
       "      <td>13</td>\n",
       "      <td>6</td>\n",
       "      <td>4</td>\n",
       "      <td>38</td>\n",
       "    </tr>\n",
       "    <tr>\n",
       "      <td>...</td>\n",
       "      <td>...</td>\n",
       "      <td>...</td>\n",
       "      <td>...</td>\n",
       "      <td>...</td>\n",
       "      <td>...</td>\n",
       "      <td>...</td>\n",
       "      <td>...</td>\n",
       "      <td>...</td>\n",
       "      <td>...</td>\n",
       "      <td>...</td>\n",
       "      <td>...</td>\n",
       "      <td>...</td>\n",
       "      <td>...</td>\n",
       "      <td>...</td>\n",
       "      <td>...</td>\n",
       "      <td>...</td>\n",
       "      <td>...</td>\n",
       "      <td>...</td>\n",
       "      <td>...</td>\n",
       "    </tr>\n",
       "    <tr>\n",
       "      <td>99209</td>\n",
       "      <td>5562E98BA4BD4057E5626F1C64AF72B3</td>\n",
       "      <td>B850A506A372259D59D4D8423E0FD0DD</td>\n",
       "      <td>VTS</td>\n",
       "      <td>1</td>\n",
       "      <td>NaN</td>\n",
       "      <td>2013-01-13 17:03:00</td>\n",
       "      <td>2013-01-13 17:03:00</td>\n",
       "      <td>1</td>\n",
       "      <td>0</td>\n",
       "      <td>0.0</td>\n",
       "      <td>-74.008430</td>\n",
       "      <td>40.714352</td>\n",
       "      <td>-74.008247</td>\n",
       "      <td>40.714512</td>\n",
       "      <td>1</td>\n",
       "      <td>13</td>\n",
       "      <td>6</td>\n",
       "      <td>17</td>\n",
       "      <td>3</td>\n",
       "    </tr>\n",
       "    <tr>\n",
       "      <td>99365</td>\n",
       "      <td>3AC3AB85F6E59CB391253FA638B854AA</td>\n",
       "      <td>C8C570EFE42867D3D5BD3D7D344FB2D9</td>\n",
       "      <td>VTS</td>\n",
       "      <td>5</td>\n",
       "      <td>NaN</td>\n",
       "      <td>2013-01-13 17:42:00</td>\n",
       "      <td>2013-01-13 17:43:00</td>\n",
       "      <td>1</td>\n",
       "      <td>60</td>\n",
       "      <td>0.0</td>\n",
       "      <td>-73.979301</td>\n",
       "      <td>40.684711</td>\n",
       "      <td>-73.979309</td>\n",
       "      <td>40.684731</td>\n",
       "      <td>1</td>\n",
       "      <td>13</td>\n",
       "      <td>6</td>\n",
       "      <td>17</td>\n",
       "      <td>42</td>\n",
       "    </tr>\n",
       "    <tr>\n",
       "      <td>99654</td>\n",
       "      <td>CAAD4751DFACEB196B094256D2A24F33</td>\n",
       "      <td>FA39FF80332DDF9D426F7E8763B9FC3E</td>\n",
       "      <td>VTS</td>\n",
       "      <td>2</td>\n",
       "      <td>NaN</td>\n",
       "      <td>2013-01-13 16:30:00</td>\n",
       "      <td>2013-01-13 16:30:00</td>\n",
       "      <td>5</td>\n",
       "      <td>0</td>\n",
       "      <td>0.0</td>\n",
       "      <td>-73.991951</td>\n",
       "      <td>40.748997</td>\n",
       "      <td>-73.992096</td>\n",
       "      <td>40.749065</td>\n",
       "      <td>1</td>\n",
       "      <td>13</td>\n",
       "      <td>6</td>\n",
       "      <td>16</td>\n",
       "      <td>30</td>\n",
       "    </tr>\n",
       "    <tr>\n",
       "      <td>99746</td>\n",
       "      <td>474DFB64CE6ED26BB41011B06D35E77D</td>\n",
       "      <td>12DF08C467CE0D44897DFB82171CBC63</td>\n",
       "      <td>VTS</td>\n",
       "      <td>5</td>\n",
       "      <td>NaN</td>\n",
       "      <td>2013-01-13 19:33:00</td>\n",
       "      <td>2013-01-13 19:34:00</td>\n",
       "      <td>2</td>\n",
       "      <td>60</td>\n",
       "      <td>0.0</td>\n",
       "      <td>0.000000</td>\n",
       "      <td>0.000000</td>\n",
       "      <td>0.000000</td>\n",
       "      <td>0.000000</td>\n",
       "      <td>1</td>\n",
       "      <td>13</td>\n",
       "      <td>6</td>\n",
       "      <td>19</td>\n",
       "      <td>33</td>\n",
       "    </tr>\n",
       "    <tr>\n",
       "      <td>99899</td>\n",
       "      <td>BE0396EBC842E52F724D6E724900C117</td>\n",
       "      <td>2A43B8DCB392C65C552DF21BDFE4D70F</td>\n",
       "      <td>VTS</td>\n",
       "      <td>5</td>\n",
       "      <td>NaN</td>\n",
       "      <td>2013-01-13 17:36:00</td>\n",
       "      <td>2013-01-13 17:36:00</td>\n",
       "      <td>1</td>\n",
       "      <td>0</td>\n",
       "      <td>0.0</td>\n",
       "      <td>0.000000</td>\n",
       "      <td>0.000000</td>\n",
       "      <td>0.000000</td>\n",
       "      <td>0.000000</td>\n",
       "      <td>1</td>\n",
       "      <td>13</td>\n",
       "      <td>6</td>\n",
       "      <td>17</td>\n",
       "      <td>36</td>\n",
       "    </tr>\n",
       "  </tbody>\n",
       "</table>\n",
       "<p>454 rows × 19 columns</p>\n",
       "</div>"
      ],
      "text/plain": [
       "                              medallion                      hack_license  \\\n",
       "88     20D9ECB2CA0767CF7A01564DF2844A3E  598CCE5B9C1918568DEE71F43CF26CD2   \n",
       "308    66764B77F96DF43315499D73AA6DD84E  FA094478696E177A9724AAE5C5CF977C   \n",
       "473    D57C7392455C38D9404660F7BC63D1B6  8B32D59D8277E765E95BC45565C120F3   \n",
       "496    2886A4D0E61E8FAD6604A02A50F1A318  E3199D5923AEBE5B40A822068CACC8D0   \n",
       "622    232840CC49C3846876B29C434104F356  C740F0FCA87B7F2C5E0B779D19BA3504   \n",
       "...                                 ...                               ...   \n",
       "99209  5562E98BA4BD4057E5626F1C64AF72B3  B850A506A372259D59D4D8423E0FD0DD   \n",
       "99365  3AC3AB85F6E59CB391253FA638B854AA  C8C570EFE42867D3D5BD3D7D344FB2D9   \n",
       "99654  CAAD4751DFACEB196B094256D2A24F33  FA39FF80332DDF9D426F7E8763B9FC3E   \n",
       "99746  474DFB64CE6ED26BB41011B06D35E77D  12DF08C467CE0D44897DFB82171CBC63   \n",
       "99899  BE0396EBC842E52F724D6E724900C117  2A43B8DCB392C65C552DF21BDFE4D70F   \n",
       "\n",
       "      vendor_id  rate_code store_and_fwd_flag     pickup_datetime  \\\n",
       "88          CMT          1                  N 2013-01-08 07:51:16   \n",
       "308         VTS          1                NaN 2013-01-13 11:11:00   \n",
       "473         VTS          5                NaN 2013-01-13 11:10:00   \n",
       "496         VTS          5                NaN 2013-01-13 04:51:00   \n",
       "622         VTS          5                NaN 2013-01-13 04:38:00   \n",
       "...         ...        ...                ...                 ...   \n",
       "99209       VTS          1                NaN 2013-01-13 17:03:00   \n",
       "99365       VTS          5                NaN 2013-01-13 17:42:00   \n",
       "99654       VTS          2                NaN 2013-01-13 16:30:00   \n",
       "99746       VTS          5                NaN 2013-01-13 19:33:00   \n",
       "99899       VTS          5                NaN 2013-01-13 17:36:00   \n",
       "\n",
       "         dropoff_datetime  passenger_count  trip_time_in_secs  trip_distance  \\\n",
       "88    2013-01-08 07:51:20                1                  4            0.0   \n",
       "308   2013-01-13 11:13:00                1                120            0.0   \n",
       "473   2013-01-13 11:10:00                1                  0            0.0   \n",
       "496   2013-01-13 04:52:00                1                 60            0.0   \n",
       "622   2013-01-13 04:39:00                2                 60            0.0   \n",
       "...                   ...              ...                ...            ...   \n",
       "99209 2013-01-13 17:03:00                1                  0            0.0   \n",
       "99365 2013-01-13 17:43:00                1                 60            0.0   \n",
       "99654 2013-01-13 16:30:00                5                  0            0.0   \n",
       "99746 2013-01-13 19:34:00                2                 60            0.0   \n",
       "99899 2013-01-13 17:36:00                1                  0            0.0   \n",
       "\n",
       "       pickup_longitude  pickup_latitude  dropoff_longitude  dropoff_latitude  \\\n",
       "88           -73.945396        40.802090         -73.945412         40.802025   \n",
       "308          -74.004791        40.725842         -74.004868         40.725876   \n",
       "473            0.000000         0.000000           0.000000          0.000000   \n",
       "496          -73.861534        40.889069         -73.861534         40.889069   \n",
       "622            0.000000         0.000000           0.000000          0.000000   \n",
       "...                 ...              ...                ...               ...   \n",
       "99209        -74.008430        40.714352         -74.008247         40.714512   \n",
       "99365        -73.979301        40.684711         -73.979309         40.684731   \n",
       "99654        -73.991951        40.748997         -73.992096         40.749065   \n",
       "99746          0.000000         0.000000           0.000000          0.000000   \n",
       "99899          0.000000         0.000000           0.000000          0.000000   \n",
       "\n",
       "       pickup_month  pickup_day  pickup_weekday  pickup_hour  pickup_minute  \n",
       "88                1           8               1            7             51  \n",
       "308               1          13               6           11             11  \n",
       "473               1          13               6           11             10  \n",
       "496               1          13               6            4             51  \n",
       "622               1          13               6            4             38  \n",
       "...             ...         ...             ...          ...            ...  \n",
       "99209             1          13               6           17              3  \n",
       "99365             1          13               6           17             42  \n",
       "99654             1          13               6           16             30  \n",
       "99746             1          13               6           19             33  \n",
       "99899             1          13               6           17             36  \n",
       "\n",
       "[454 rows x 19 columns]"
      ]
     },
     "execution_count": 85,
     "metadata": {},
     "output_type": "execute_result"
    }
   ],
   "source": [
    "df[df['trip_distance']==0]"
   ]
  },
  {
   "cell_type": "code",
   "execution_count": 86,
   "metadata": {},
   "outputs": [],
   "source": [
    "# As you can see some thing doesn't make sense here, distance = 0 ?  and duration =0?\n",
    "# i believe they are mistakes, even if they are not we want our model to predict actual\n",
    "#duration with actual distance, that is what a real trip would mean\n",
    "# so let's filter them out as well"
   ]
  },
  {
   "cell_type": "code",
   "execution_count": 87,
   "metadata": {},
   "outputs": [],
   "source": [
    "df=df[df['trip_distance']>0]"
   ]
  },
  {
   "cell_type": "code",
   "execution_count": 88,
   "metadata": {},
   "outputs": [],
   "source": [
    "df=df[df['trip_time_in_secs']>0]"
   ]
  },
  {
   "cell_type": "code",
   "execution_count": 89,
   "metadata": {},
   "outputs": [
    {
     "data": {
      "image/png": "[encoded data removed]",
      "text/plain": [
       "<Figure size 432x288 with 1 Axes>"
      ]
     },
     "metadata": {
      "needs_background": "light"
     },
     "output_type": "display_data"
    }
   ],
   "source": [
    "sns.scatterplot(data=df, x=\"trip_distance\", y=\"trip_time_in_secs\")\n",
    "plt.show()"
   ]
  },
  {
   "cell_type": "code",
   "execution_count": 90,
   "metadata": {},
   "outputs": [],
   "source": [
    "# perfect right !"
   ]
  },
  {
   "cell_type": "markdown",
   "metadata": {},
   "source": [
    "# Feature Engineering"
   ]
  },
  {
   "cell_type": "code",
   "execution_count": 91,
   "metadata": {},
   "outputs": [],
   "source": [
    "#now feature engineering time !\n",
    "#let's add some features that may help our model predict better"
   ]
  },
  {
   "cell_type": "code",
   "execution_count": 92,
   "metadata": {},
   "outputs": [],
   "source": [
    "def part_of_day (t):\n",
    "    if t in range (6,12):\n",
    "        return \"Morning\"\n",
    "    elif t in range (12,18):\n",
    "        return \"Afternoon\"\n",
    "    elif t in range (18,21):\n",
    "        return \"Evening\"\n",
    "    else:\n",
    "        return \"Night\""
   ]
  },
  {
   "cell_type": "code",
   "execution_count": 93,
   "metadata": {},
   "outputs": [],
   "source": [
    "df['pickup_part_of_day']=df['pickup_hour'].apply(part_of_day)"
   ]
  },
  {
   "cell_type": "code",
   "execution_count": 94,
   "metadata": {},
   "outputs": [],
   "source": [
    "# how about one more"
   ]
  },
  {
   "cell_type": "code",
   "execution_count": 95,
   "metadata": {},
   "outputs": [],
   "source": [
    "# speed as Miles per Hour\n",
    "df['average_speed'] = df['trip_distance']/(df['trip_time_in_secs']/3600)"
   ]
  },
  {
   "cell_type": "code",
   "execution_count": 96,
   "metadata": {},
   "outputs": [
    {
     "data": {
      "text/html": [
       "<div>\n",
       "<style scoped>\n",
       "    .dataframe tbody tr th:only-of-type {\n",
       "        vertical-align: middle;\n",
       "    }\n",
       "\n",
       "    .dataframe tbody tr th {\n",
       "        vertical-align: top;\n",
       "    }\n",
       "\n",
       "    .dataframe thead th {\n",
       "        text-align: right;\n",
       "    }\n",
       "</style>\n",
       "<table border=\"1\" class=\"dataframe\">\n",
       "  <thead>\n",
       "    <tr style=\"text-align: right;\">\n",
       "      <th></th>\n",
       "      <th>medallion</th>\n",
       "      <th>hack_license</th>\n",
       "      <th>vendor_id</th>\n",
       "      <th>rate_code</th>\n",
       "      <th>store_and_fwd_flag</th>\n",
       "      <th>pickup_datetime</th>\n",
       "      <th>dropoff_datetime</th>\n",
       "      <th>passenger_count</th>\n",
       "      <th>trip_time_in_secs</th>\n",
       "      <th>trip_distance</th>\n",
       "      <th>...</th>\n",
       "      <th>pickup_latitude</th>\n",
       "      <th>dropoff_longitude</th>\n",
       "      <th>dropoff_latitude</th>\n",
       "      <th>pickup_month</th>\n",
       "      <th>pickup_day</th>\n",
       "      <th>pickup_weekday</th>\n",
       "      <th>pickup_hour</th>\n",
       "      <th>pickup_minute</th>\n",
       "      <th>pickup_part_of_day</th>\n",
       "      <th>average_speed</th>\n",
       "    </tr>\n",
       "  </thead>\n",
       "  <tbody>\n",
       "    <tr>\n",
       "      <td>0</td>\n",
       "      <td>89D227B655E5C82AECF13C3F540D4CF4</td>\n",
       "      <td>BA96DE419E711691B9445D6A6307C170</td>\n",
       "      <td>CMT</td>\n",
       "      <td>1</td>\n",
       "      <td>N</td>\n",
       "      <td>2013-01-01 15:11:48</td>\n",
       "      <td>2013-01-01 15:18:10</td>\n",
       "      <td>4</td>\n",
       "      <td>382</td>\n",
       "      <td>1.0</td>\n",
       "      <td>...</td>\n",
       "      <td>40.757977</td>\n",
       "      <td>-73.989838</td>\n",
       "      <td>40.751171</td>\n",
       "      <td>1</td>\n",
       "      <td>1</td>\n",
       "      <td>1</td>\n",
       "      <td>15</td>\n",
       "      <td>11</td>\n",
       "      <td>Afternoon</td>\n",
       "      <td>9.424084</td>\n",
       "    </tr>\n",
       "    <tr>\n",
       "      <td>1</td>\n",
       "      <td>0BD7C8F5BA12B88E0B67BED28BEA73D8</td>\n",
       "      <td>9FD8F69F0804BDB5549F40E9DA1BE472</td>\n",
       "      <td>CMT</td>\n",
       "      <td>1</td>\n",
       "      <td>N</td>\n",
       "      <td>2013-01-06 00:18:35</td>\n",
       "      <td>2013-01-06 00:22:54</td>\n",
       "      <td>1</td>\n",
       "      <td>259</td>\n",
       "      <td>1.5</td>\n",
       "      <td>...</td>\n",
       "      <td>40.731781</td>\n",
       "      <td>-73.994499</td>\n",
       "      <td>40.750660</td>\n",
       "      <td>1</td>\n",
       "      <td>6</td>\n",
       "      <td>6</td>\n",
       "      <td>0</td>\n",
       "      <td>18</td>\n",
       "      <td>Night</td>\n",
       "      <td>20.849421</td>\n",
       "    </tr>\n",
       "    <tr>\n",
       "      <td>2</td>\n",
       "      <td>0BD7C8F5BA12B88E0B67BED28BEA73D8</td>\n",
       "      <td>9FD8F69F0804BDB5549F40E9DA1BE472</td>\n",
       "      <td>CMT</td>\n",
       "      <td>1</td>\n",
       "      <td>N</td>\n",
       "      <td>2013-01-05 18:49:41</td>\n",
       "      <td>2013-01-05 18:54:23</td>\n",
       "      <td>1</td>\n",
       "      <td>282</td>\n",
       "      <td>1.1</td>\n",
       "      <td>...</td>\n",
       "      <td>40.737770</td>\n",
       "      <td>-74.009834</td>\n",
       "      <td>40.726002</td>\n",
       "      <td>1</td>\n",
       "      <td>5</td>\n",
       "      <td>5</td>\n",
       "      <td>18</td>\n",
       "      <td>49</td>\n",
       "      <td>Evening</td>\n",
       "      <td>14.042553</td>\n",
       "    </tr>\n",
       "    <tr>\n",
       "      <td>3</td>\n",
       "      <td>DFD2202EE08F7A8DC9A57B02ACB81FE2</td>\n",
       "      <td>51EE87E3205C985EF8431D850C786310</td>\n",
       "      <td>CMT</td>\n",
       "      <td>1</td>\n",
       "      <td>N</td>\n",
       "      <td>2013-01-07 23:54:15</td>\n",
       "      <td>2013-01-07 23:58:20</td>\n",
       "      <td>2</td>\n",
       "      <td>244</td>\n",
       "      <td>0.7</td>\n",
       "      <td>...</td>\n",
       "      <td>40.759945</td>\n",
       "      <td>-73.984734</td>\n",
       "      <td>40.759388</td>\n",
       "      <td>1</td>\n",
       "      <td>7</td>\n",
       "      <td>0</td>\n",
       "      <td>23</td>\n",
       "      <td>54</td>\n",
       "      <td>Night</td>\n",
       "      <td>10.327869</td>\n",
       "    </tr>\n",
       "    <tr>\n",
       "      <td>4</td>\n",
       "      <td>DFD2202EE08F7A8DC9A57B02ACB81FE2</td>\n",
       "      <td>51EE87E3205C985EF8431D850C786310</td>\n",
       "      <td>CMT</td>\n",
       "      <td>1</td>\n",
       "      <td>N</td>\n",
       "      <td>2013-01-07 23:25:03</td>\n",
       "      <td>2013-01-07 23:34:24</td>\n",
       "      <td>1</td>\n",
       "      <td>560</td>\n",
       "      <td>2.1</td>\n",
       "      <td>...</td>\n",
       "      <td>40.748528</td>\n",
       "      <td>-74.002586</td>\n",
       "      <td>40.747868</td>\n",
       "      <td>1</td>\n",
       "      <td>7</td>\n",
       "      <td>0</td>\n",
       "      <td>23</td>\n",
       "      <td>25</td>\n",
       "      <td>Night</td>\n",
       "      <td>13.500000</td>\n",
       "    </tr>\n",
       "  </tbody>\n",
       "</table>\n",
       "<p>5 rows × 21 columns</p>\n",
       "</div>"
      ],
      "text/plain": [
       "                          medallion                      hack_license  \\\n",
       "0  89D227B655E5C82AECF13C3F540D4CF4  BA96DE419E711691B9445D6A6307C170   \n",
       "1  0BD7C8F5BA12B88E0B67BED28BEA73D8  9FD8F69F0804BDB5549F40E9DA1BE472   \n",
       "2  0BD7C8F5BA12B88E0B67BED28BEA73D8  9FD8F69F0804BDB5549F40E9DA1BE472   \n",
       "3  DFD2202EE08F7A8DC9A57B02ACB81FE2  51EE87E3205C985EF8431D850C786310   \n",
       "4  DFD2202EE08F7A8DC9A57B02ACB81FE2  51EE87E3205C985EF8431D850C786310   \n",
       "\n",
       "  vendor_id  rate_code store_and_fwd_flag     pickup_datetime  \\\n",
       "0       CMT          1                  N 2013-01-01 15:11:48   \n",
       "1       CMT          1                  N 2013-01-06 00:18:35   \n",
       "2       CMT          1                  N 2013-01-05 18:49:41   \n",
       "3       CMT          1                  N 2013-01-07 23:54:15   \n",
       "4       CMT          1                  N 2013-01-07 23:25:03   \n",
       "\n",
       "     dropoff_datetime  passenger_count  trip_time_in_secs  trip_distance  ...  \\\n",
       "0 2013-01-01 15:18:10                4                382            1.0  ...   \n",
       "1 2013-01-06 00:22:54                1                259            1.5  ...   \n",
       "2 2013-01-05 18:54:23                1                282            1.1  ...   \n",
       "3 2013-01-07 23:58:20                2                244            0.7  ...   \n",
       "4 2013-01-07 23:34:24                1                560            2.1  ...   \n",
       "\n",
       "   pickup_latitude  dropoff_longitude  dropoff_latitude  pickup_month  \\\n",
       "0        40.757977         -73.989838         40.751171             1   \n",
       "1        40.731781         -73.994499         40.750660             1   \n",
       "2        40.737770         -74.009834         40.726002             1   \n",
       "3        40.759945         -73.984734         40.759388             1   \n",
       "4        40.748528         -74.002586         40.747868             1   \n",
       "\n",
       "   pickup_day  pickup_weekday  pickup_hour  pickup_minute  pickup_part_of_day  \\\n",
       "0           1               1           15             11           Afternoon   \n",
       "1           6               6            0             18               Night   \n",
       "2           5               5           18             49             Evening   \n",
       "3           7               0           23             54               Night   \n",
       "4           7               0           23             25               Night   \n",
       "\n",
       "  average_speed  \n",
       "0      9.424084  \n",
       "1     20.849421  \n",
       "2     14.042553  \n",
       "3     10.327869  \n",
       "4     13.500000  \n",
       "\n",
       "[5 rows x 21 columns]"
      ]
     },
     "execution_count": 96,
     "metadata": {},
     "output_type": "execute_result"
    }
   ],
   "source": [
    "df.head()"
   ]
  },
  {
   "cell_type": "code",
   "execution_count": 97,
   "metadata": {},
   "outputs": [
    {
     "name": "stdout",
     "output_type": "stream",
     "text": [
      "<class 'pandas.core.frame.DataFrame'>\n",
      "Int64Index: 99407 entries, 0 to 99999\n",
      "Data columns (total 21 columns):\n",
      "medallion             99407 non-null object\n",
      "hack_license          99407 non-null object\n",
      "vendor_id             99407 non-null object\n",
      "rate_code             99407 non-null int64\n",
      "store_and_fwd_flag    371 non-null object\n",
      "pickup_datetime       99407 non-null datetime64[ns]\n",
      "dropoff_datetime      99407 non-null datetime64[ns]\n",
      "passenger_count       99407 non-null int64\n",
      "trip_time_in_secs     99407 non-null int64\n",
      "trip_distance         99407 non-null float64\n",
      "pickup_longitude      99407 non-null float64\n",
      "pickup_latitude       99407 non-null float64\n",
      "dropoff_longitude     99407 non-null float64\n",
      "dropoff_latitude      99407 non-null float64\n",
      "pickup_month          99407 non-null int64\n",
      "pickup_day            99407 non-null int64\n",
      "pickup_weekday        99407 non-null int64\n",
      "pickup_hour           99407 non-null int64\n",
      "pickup_minute         99407 non-null int64\n",
      "pickup_part_of_day    99407 non-null object\n",
      "average_speed         99407 non-null float64\n",
      "dtypes: datetime64[ns](2), float64(6), int64(8), object(5)\n",
      "memory usage: 16.7+ MB\n"
     ]
    }
   ],
   "source": [
    "df.info()"
   ]
  },
  {
   "cell_type": "code",
   "execution_count": 98,
   "metadata": {},
   "outputs": [],
   "source": [
    "# what a relief , I believe we are now ready to go , fasten your seatbelts guys!"
   ]
  },
  {
   "cell_type": "code",
   "execution_count": 99,
   "metadata": {},
   "outputs": [],
   "source": [
    "#before training our model we must choose wisely what columns to feed to the model\n",
    "# i will start by dropping some irrelevant columns like medallion, hack_license, vendor_id\n",
    "# the previuos columns will add nothing important to our model\n",
    "# I will also drop pickup_longitude , pickup_latitude, dropoff_longitude, dropoff_latitude\n",
    "# because I believe that the purpose of these features is to calculate the distance which we already have\n",
    "#I will also drop pickup_datetime, dropoff_datetime . we already extracted better data from these columns\n",
    "# finally i will drop store_and_fwd_flag columns since it has too many null values"
   ]
  },
  {
   "cell_type": "code",
   "execution_count": 100,
   "metadata": {},
   "outputs": [],
   "source": [
    "df_copy_1=df.drop(['medallion','hack_license','vendor_id','pickup_longitude','pickup_latitude','dropoff_longitude','dropoff_latitude','pickup_datetime','dropoff_datetime','store_and_fwd_flag'],axis=1)"
   ]
  },
  {
   "cell_type": "code",
   "execution_count": 101,
   "metadata": {},
   "outputs": [],
   "source": [
    "# we must convert the object column to one hot encoding to feed it to our model\n",
    "df_copy_1=pd.get_dummies(df_copy_1)"
   ]
  },
  {
   "cell_type": "code",
   "execution_count": 102,
   "metadata": {},
   "outputs": [
    {
     "data": {
      "text/html": [
       "<div>\n",
       "<style scoped>\n",
       "    .dataframe tbody tr th:only-of-type {\n",
       "        vertical-align: middle;\n",
       "    }\n",
       "\n",
       "    .dataframe tbody tr th {\n",
       "        vertical-align: top;\n",
       "    }\n",
       "\n",
       "    .dataframe thead th {\n",
       "        text-align: right;\n",
       "    }\n",
       "</style>\n",
       "<table border=\"1\" class=\"dataframe\">\n",
       "  <thead>\n",
       "    <tr style=\"text-align: right;\">\n",
       "      <th></th>\n",
       "      <th>rate_code</th>\n",
       "      <th>passenger_count</th>\n",
       "      <th>trip_time_in_secs</th>\n",
       "      <th>trip_distance</th>\n",
       "      <th>pickup_month</th>\n",
       "      <th>pickup_day</th>\n",
       "      <th>pickup_weekday</th>\n",
       "      <th>pickup_hour</th>\n",
       "      <th>pickup_minute</th>\n",
       "      <th>average_speed</th>\n",
       "      <th>pickup_part_of_day_Afternoon</th>\n",
       "      <th>pickup_part_of_day_Evening</th>\n",
       "      <th>pickup_part_of_day_Morning</th>\n",
       "      <th>pickup_part_of_day_Night</th>\n",
       "    </tr>\n",
       "  </thead>\n",
       "  <tbody>\n",
       "    <tr>\n",
       "      <td>0</td>\n",
       "      <td>1</td>\n",
       "      <td>4</td>\n",
       "      <td>382</td>\n",
       "      <td>1.0</td>\n",
       "      <td>1</td>\n",
       "      <td>1</td>\n",
       "      <td>1</td>\n",
       "      <td>15</td>\n",
       "      <td>11</td>\n",
       "      <td>9.424084</td>\n",
       "      <td>1</td>\n",
       "      <td>0</td>\n",
       "      <td>0</td>\n",
       "      <td>0</td>\n",
       "    </tr>\n",
       "    <tr>\n",
       "      <td>1</td>\n",
       "      <td>1</td>\n",
       "      <td>1</td>\n",
       "      <td>259</td>\n",
       "      <td>1.5</td>\n",
       "      <td>1</td>\n",
       "      <td>6</td>\n",
       "      <td>6</td>\n",
       "      <td>0</td>\n",
       "      <td>18</td>\n",
       "      <td>20.849421</td>\n",
       "      <td>0</td>\n",
       "      <td>0</td>\n",
       "      <td>0</td>\n",
       "      <td>1</td>\n",
       "    </tr>\n",
       "    <tr>\n",
       "      <td>2</td>\n",
       "      <td>1</td>\n",
       "      <td>1</td>\n",
       "      <td>282</td>\n",
       "      <td>1.1</td>\n",
       "      <td>1</td>\n",
       "      <td>5</td>\n",
       "      <td>5</td>\n",
       "      <td>18</td>\n",
       "      <td>49</td>\n",
       "      <td>14.042553</td>\n",
       "      <td>0</td>\n",
       "      <td>1</td>\n",
       "      <td>0</td>\n",
       "      <td>0</td>\n",
       "    </tr>\n",
       "    <tr>\n",
       "      <td>3</td>\n",
       "      <td>1</td>\n",
       "      <td>2</td>\n",
       "      <td>244</td>\n",
       "      <td>0.7</td>\n",
       "      <td>1</td>\n",
       "      <td>7</td>\n",
       "      <td>0</td>\n",
       "      <td>23</td>\n",
       "      <td>54</td>\n",
       "      <td>10.327869</td>\n",
       "      <td>0</td>\n",
       "      <td>0</td>\n",
       "      <td>0</td>\n",
       "      <td>1</td>\n",
       "    </tr>\n",
       "    <tr>\n",
       "      <td>4</td>\n",
       "      <td>1</td>\n",
       "      <td>1</td>\n",
       "      <td>560</td>\n",
       "      <td>2.1</td>\n",
       "      <td>1</td>\n",
       "      <td>7</td>\n",
       "      <td>0</td>\n",
       "      <td>23</td>\n",
       "      <td>25</td>\n",
       "      <td>13.500000</td>\n",
       "      <td>0</td>\n",
       "      <td>0</td>\n",
       "      <td>0</td>\n",
       "      <td>1</td>\n",
       "    </tr>\n",
       "  </tbody>\n",
       "</table>\n",
       "</div>"
      ],
      "text/plain": [
       "   rate_code  passenger_count  trip_time_in_secs  trip_distance  pickup_month  \\\n",
       "0          1                4                382            1.0             1   \n",
       "1          1                1                259            1.5             1   \n",
       "2          1                1                282            1.1             1   \n",
       "3          1                2                244            0.7             1   \n",
       "4          1                1                560            2.1             1   \n",
       "\n",
       "   pickup_day  pickup_weekday  pickup_hour  pickup_minute  average_speed  \\\n",
       "0           1               1           15             11       9.424084   \n",
       "1           6               6            0             18      20.849421   \n",
       "2           5               5           18             49      14.042553   \n",
       "3           7               0           23             54      10.327869   \n",
       "4           7               0           23             25      13.500000   \n",
       "\n",
       "   pickup_part_of_day_Afternoon  pickup_part_of_day_Evening  \\\n",
       "0                             1                           0   \n",
       "1                             0                           0   \n",
       "2                             0                           1   \n",
       "3                             0                           0   \n",
       "4                             0                           0   \n",
       "\n",
       "   pickup_part_of_day_Morning  pickup_part_of_day_Night  \n",
       "0                           0                         0  \n",
       "1                           0                         1  \n",
       "2                           0                         0  \n",
       "3                           0                         1  \n",
       "4                           0                         1  "
      ]
     },
     "execution_count": 102,
     "metadata": {},
     "output_type": "execute_result"
    }
   ],
   "source": [
    "df_copy_1.head()"
   ]
  },
  {
   "cell_type": "code",
   "execution_count": 103,
   "metadata": {},
   "outputs": [
    {
     "name": "stdout",
     "output_type": "stream",
     "text": [
      "<class 'pandas.core.frame.DataFrame'>\n",
      "Int64Index: 99407 entries, 0 to 99999\n",
      "Data columns (total 14 columns):\n",
      "rate_code                       99407 non-null int64\n",
      "passenger_count                 99407 non-null int64\n",
      "trip_time_in_secs               99407 non-null int64\n",
      "trip_distance                   99407 non-null float64\n",
      "pickup_month                    99407 non-null int64\n",
      "pickup_day                      99407 non-null int64\n",
      "pickup_weekday                  99407 non-null int64\n",
      "pickup_hour                     99407 non-null int64\n",
      "pickup_minute                   99407 non-null int64\n",
      "average_speed                   99407 non-null float64\n",
      "pickup_part_of_day_Afternoon    99407 non-null uint8\n",
      "pickup_part_of_day_Evening      99407 non-null uint8\n",
      "pickup_part_of_day_Morning      99407 non-null uint8\n",
      "pickup_part_of_day_Night        99407 non-null uint8\n",
      "dtypes: float64(2), int64(8), uint8(4)\n",
      "memory usage: 8.7 MB\n"
     ]
    }
   ],
   "source": [
    "df_copy_1.info()"
   ]
  },
  {
   "cell_type": "code",
   "execution_count": 104,
   "metadata": {},
   "outputs": [],
   "source": [
    "# beautiful right\n",
    "# now i believe we are ready to train our model"
   ]
  },
  {
   "cell_type": "markdown",
   "metadata": {},
   "source": [
    "# Modeling"
   ]
  },
  {
   "cell_type": "code",
   "execution_count": 105,
   "metadata": {},
   "outputs": [],
   "source": [
    "x_train,x_valid,y_train,y_valid=train_test_split(df_copy_1.drop('trip_time_in_secs',axis=1),df_copy_1['trip_time_in_secs'],test_size=.2,random_state=42)"
   ]
  },
  {
   "cell_type": "markdown",
   "metadata": {},
   "source": [
    "# Linear regression"
   ]
  },
  {
   "cell_type": "code",
   "execution_count": 106,
   "metadata": {},
   "outputs": [],
   "source": [
    "#first model\n",
    "from sklearn.linear_model import LinearRegression"
   ]
  },
  {
   "cell_type": "code",
   "execution_count": 107,
   "metadata": {},
   "outputs": [],
   "source": [
    "model= LinearRegression().fit(x_train, y_train)"
   ]
  },
  {
   "cell_type": "code",
   "execution_count": 108,
   "metadata": {},
   "outputs": [],
   "source": [
    "prediction=model.predict(x_valid)"
   ]
  },
  {
   "cell_type": "code",
   "execution_count": 109,
   "metadata": {},
   "outputs": [
    {
     "data": {
      "text/plain": [
       "34981.49194108566"
      ]
     },
     "execution_count": 109,
     "metadata": {},
     "output_type": "execute_result"
    }
   ],
   "source": [
    "mean_squared_error(y_valid,prediction)"
   ]
  },
  {
   "cell_type": "code",
   "execution_count": 110,
   "metadata": {},
   "outputs": [],
   "source": [
    "# wow that is a relief \n",
    "# if you remember our error when we computed the mean as our prediction was 215175.43\n",
    "#now we cut it down to 34981.49 only by data cleaning"
   ]
  },
  {
   "cell_type": "code",
   "execution_count": 111,
   "metadata": {},
   "outputs": [
    {
     "data": {
      "text/plain": [
       "38565.96678559688"
      ]
     },
     "execution_count": 111,
     "metadata": {},
     "output_type": "execute_result"
    }
   ],
   "source": [
    "# to make sure our model is not overfitting we use k-fold cross validation technique\n",
    "from sklearn.model_selection import cross_val_score\n",
    "scores=cross_val_score(model,df_copy_1.drop('trip_time_in_secs',axis=1),df_copy_1['trip_time_in_secs'], scoring='neg_mean_squared_error',cv=10)*-1\n",
    "scores.mean()"
   ]
  },
  {
   "cell_type": "code",
   "execution_count": 112,
   "metadata": {},
   "outputs": [],
   "source": [
    "# there is a beautiful yet effective  trick to improve performance in linear problems\n",
    "# we take the natural log of the output because it helps converts the distribution of the output \n",
    "#to normal distribution by reducing the skewness  which helps linear models learn better hence \n",
    "#predict better"
   ]
  },
  {
   "cell_type": "code",
   "execution_count": 113,
   "metadata": {},
   "outputs": [],
   "source": [
    "y_train_log=np.log(y_train)\n",
    "y_valid_log=np.log(y_valid)"
   ]
  },
  {
   "cell_type": "code",
   "execution_count": 114,
   "metadata": {},
   "outputs": [],
   "source": [
    "model= LinearRegression().fit(x_train, y_train_log)"
   ]
  },
  {
   "cell_type": "code",
   "execution_count": 115,
   "metadata": {},
   "outputs": [],
   "source": [
    "prediction=model.predict(x_valid)"
   ]
  },
  {
   "cell_type": "code",
   "execution_count": 116,
   "metadata": {},
   "outputs": [
    {
     "data": {
      "text/plain": [
       "0.15542180817158216"
      ]
     },
     "execution_count": 116,
     "metadata": {},
     "output_type": "execute_result"
    }
   ],
   "source": [
    "mean_squared_error(y_valid_log,prediction)"
   ]
  },
  {
   "cell_type": "code",
   "execution_count": 117,
   "metadata": {},
   "outputs": [],
   "source": [
    "# wow look at the differece, huge right ,feel free to change random state value in split function \n",
    "# to make sure that the model generalizes well and not overfitting."
   ]
  },
  {
   "cell_type": "markdown",
   "metadata": {},
   "source": [
    "# XGBoost"
   ]
  },
  {
   "cell_type": "code",
   "execution_count": 118,
   "metadata": {},
   "outputs": [],
   "source": [
    "from xgboost import XGBRegressor\n",
    "model = XGBRegressor().fit(x_train, y_train)\n"
   ]
  },
  {
   "cell_type": "code",
   "execution_count": 119,
   "metadata": {},
   "outputs": [
    {
     "data": {
      "text/plain": [
       "396.9746740252692"
      ]
     },
     "execution_count": 119,
     "metadata": {},
     "output_type": "execute_result"
    }
   ],
   "source": [
    "prediction=model.predict(x_valid)\n",
    "mean_squared_error(y_valid,prediction)"
   ]
  },
  {
   "cell_type": "code",
   "execution_count": 120,
   "metadata": {},
   "outputs": [
    {
     "data": {
      "text/plain": [
       "361.46744089369474"
      ]
     },
     "execution_count": 120,
     "metadata": {},
     "output_type": "execute_result"
    }
   ],
   "source": [
    "scores=cross_val_score(model,df_copy_1.drop('trip_time_in_secs',axis=1),df_copy_1['trip_time_in_secs'], scoring='neg_mean_squared_error',cv=10)*-1\n",
    "scores.mean()"
   ]
  },
  {
   "cell_type": "code",
   "execution_count": 121,
   "metadata": {},
   "outputs": [
    {
     "data": {
      "text/plain": [
       "0.00020515849014025698"
      ]
     },
     "execution_count": 121,
     "metadata": {},
     "output_type": "execute_result"
    }
   ],
   "source": [
    "model= XGBRegressor().fit(x_train, y_train_log)\n",
    "prediction=model.predict(x_valid)\n",
    "mean_squared_error(y_valid_log,prediction)"
   ]
  },
  {
   "cell_type": "code",
   "execution_count": 122,
   "metadata": {},
   "outputs": [],
   "source": [
    "# woooooow look at that almost zero"
   ]
  },
  {
   "cell_type": "markdown",
   "metadata": {},
   "source": [
    "# Random Forest Classifier"
   ]
  },
  {
   "cell_type": "code",
   "execution_count": 123,
   "metadata": {},
   "outputs": [
    {
     "name": "stderr",
     "output_type": "stream",
     "text": [
      "C:\\Users\\HP\\Anaconda3\\lib\\site-packages\\sklearn\\ensemble\\forest.py:245: FutureWarning: The default value of n_estimators will change from 10 in version 0.20 to 100 in 0.22.\n",
      "  \"10 in version 0.20 to 100 in 0.22.\", FutureWarning)\n"
     ]
    }
   ],
   "source": [
    "from sklearn.ensemble import RandomForestRegressor\n",
    "model=RandomForestRegressor().fit(x_train, y_train)"
   ]
  },
  {
   "cell_type": "code",
   "execution_count": 124,
   "metadata": {},
   "outputs": [
    {
     "data": {
      "text/plain": [
       "426.15321698018306"
      ]
     },
     "execution_count": 124,
     "metadata": {},
     "output_type": "execute_result"
    }
   ],
   "source": [
    "prediction=model.predict(x_valid)\n",
    "mean_squared_error(y_valid,prediction)"
   ]
  },
  {
   "cell_type": "code",
   "execution_count": 125,
   "metadata": {},
   "outputs": [
    {
     "data": {
      "text/plain": [
       "394.0861138948569"
      ]
     },
     "execution_count": 125,
     "metadata": {},
     "output_type": "execute_result"
    }
   ],
   "source": [
    "scores=cross_val_score(model,df_copy_1.drop('trip_time_in_secs',axis=1),df_copy_1['trip_time_in_secs'], scoring='neg_mean_squared_error',cv=10)*-1\n",
    "scores.mean()"
   ]
  },
  {
   "cell_type": "code",
   "execution_count": 126,
   "metadata": {},
   "outputs": [
    {
     "name": "stderr",
     "output_type": "stream",
     "text": [
      "C:\\Users\\HP\\Anaconda3\\lib\\site-packages\\sklearn\\ensemble\\forest.py:245: FutureWarning: The default value of n_estimators will change from 10 in version 0.20 to 100 in 0.22.\n",
      "  \"10 in version 0.20 to 100 in 0.22.\", FutureWarning)\n"
     ]
    },
    {
     "data": {
      "text/plain": [
       "0.0001422295901686317"
      ]
     },
     "execution_count": 126,
     "metadata": {},
     "output_type": "execute_result"
    }
   ],
   "source": [
    "model= RandomForestRegressor().fit(x_train, y_train_log)\n",
    "prediction=model.predict(x_valid)\n",
    "mean_squared_error(y_valid_log,prediction)"
   ]
  },
  {
   "cell_type": "markdown",
   "metadata": {},
   "source": [
    "# SGDRegressor"
   ]
  },
  {
   "cell_type": "code",
   "execution_count": 127,
   "metadata": {},
   "outputs": [],
   "source": [
    "from sklearn.linear_model import SGDRegressor\n",
    "model = SGDRegressor().fit(x_train, y_train)"
   ]
  },
  {
   "cell_type": "code",
   "execution_count": 128,
   "metadata": {},
   "outputs": [
    {
     "data": {
      "text/plain": [
       "7765485993.756086"
      ]
     },
     "execution_count": 128,
     "metadata": {},
     "output_type": "execute_result"
    }
   ],
   "source": [
    "prediction=model.predict(x_valid)\n",
    "mean_squared_error(y_valid,prediction)"
   ]
  },
  {
   "cell_type": "code",
   "execution_count": 129,
   "metadata": {},
   "outputs": [
    {
     "data": {
      "text/plain": [
       "13308732694.412569"
      ]
     },
     "execution_count": 129,
     "metadata": {},
     "output_type": "execute_result"
    }
   ],
   "source": [
    "scores=cross_val_score(model,df_copy_1.drop('trip_time_in_secs',axis=1),df_copy_1['trip_time_in_secs'], scoring='neg_mean_squared_error',cv=10)*-1\n",
    "scores.mean()"
   ]
  },
  {
   "cell_type": "code",
   "execution_count": 130,
   "metadata": {},
   "outputs": [
    {
     "data": {
      "text/plain": [
       "3351807796.5664916"
      ]
     },
     "execution_count": 130,
     "metadata": {},
     "output_type": "execute_result"
    }
   ],
   "source": [
    "model= SGDRegressor().fit(x_train, y_train_log)\n",
    "prediction=model.predict(x_valid)\n",
    "mean_squared_error(y_valid_log,prediction)"
   ]
  },
  {
   "cell_type": "markdown",
   "metadata": {},
   "source": [
    "# Extra Trees Regressor"
   ]
  },
  {
   "cell_type": "code",
   "execution_count": 131,
   "metadata": {},
   "outputs": [
    {
     "name": "stderr",
     "output_type": "stream",
     "text": [
      "C:\\Users\\HP\\Anaconda3\\lib\\site-packages\\sklearn\\ensemble\\forest.py:245: FutureWarning: The default value of n_estimators will change from 10 in version 0.20 to 100 in 0.22.\n",
      "  \"10 in version 0.20 to 100 in 0.22.\", FutureWarning)\n"
     ]
    }
   ],
   "source": [
    "from sklearn.ensemble import ExtraTreesRegressor\n",
    "model=ExtraTreesRegressor().fit(x_train, y_train)"
   ]
  },
  {
   "cell_type": "code",
   "execution_count": 132,
   "metadata": {},
   "outputs": [
    {
     "data": {
      "text/plain": [
       "570.0361920329946"
      ]
     },
     "execution_count": 132,
     "metadata": {},
     "output_type": "execute_result"
    }
   ],
   "source": [
    "prediction=model.predict(x_valid)\n",
    "mean_squared_error(y_valid,prediction)"
   ]
  },
  {
   "cell_type": "code",
   "execution_count": 133,
   "metadata": {},
   "outputs": [
    {
     "data": {
      "text/plain": [
       "476.7597876868191"
      ]
     },
     "execution_count": 133,
     "metadata": {},
     "output_type": "execute_result"
    }
   ],
   "source": [
    "scores=cross_val_score(model,df_copy_1.drop('trip_time_in_secs',axis=1),df_copy_1['trip_time_in_secs'], scoring='neg_mean_squared_error',cv=10)*-1\n",
    "scores.mean()"
   ]
  },
  {
   "cell_type": "code",
   "execution_count": 134,
   "metadata": {},
   "outputs": [
    {
     "name": "stderr",
     "output_type": "stream",
     "text": [
      "C:\\Users\\HP\\Anaconda3\\lib\\site-packages\\sklearn\\ensemble\\forest.py:245: FutureWarning: The default value of n_estimators will change from 10 in version 0.20 to 100 in 0.22.\n",
      "  \"10 in version 0.20 to 100 in 0.22.\", FutureWarning)\n"
     ]
    },
    {
     "data": {
      "text/plain": [
       "0.0001687805339033536"
      ]
     },
     "execution_count": 134,
     "metadata": {},
     "output_type": "execute_result"
    }
   ],
   "source": [
    "model= ExtraTreesRegressor().fit(x_train, y_train_log)\n",
    "prediction=model.predict(x_valid)\n",
    "mean_squared_error(y_valid_log,prediction)"
   ]
  },
  {
   "cell_type": "markdown",
   "metadata": {},
   "source": [
    "# Best model"
   ]
  },
  {
   "cell_type": "code",
   "execution_count": 135,
   "metadata": {},
   "outputs": [],
   "source": [
    "# As you can see all the models performed well except for SGDRegressor maybe needed hyperparameter tuning\n",
    "# I choose XGBoostRegressor as the best model since the cross validation is the least error among all\n",
    "# which guarantees that there is no overfitting."
   ]
  },
  {
   "cell_type": "code",
   "execution_count": 136,
   "metadata": {},
   "outputs": [],
   "source": [
    "#XGBoost is a decision-tree-based ensemble Machine Learning algorithm that uses a gradient boosting framework.\n",
    "#XGBoost is a popular and efficient open-source implementation of the gradient boosted trees algorithm.\n",
    "#When using gradient boosting for regression, the weak learners are regression trees, and each regression tree\n",
    "#maps an input data point to one of its leafs that contains a continuous score.\n"
   ]
  },
  {
   "attachments": {
    "image.png": {
     "image/png": "[encoded data removed]"
    }
   },
   "cell_type": "markdown",
   "metadata": {},
   "source": [
    "![image.png](attachment:image.png)"
   ]
  },
  {
   "cell_type": "code",
   "execution_count": 137,
   "metadata": {},
   "outputs": [],
   "source": [
    "# Thanks"
   ]
  }
 ],
 "metadata": {
  "kernelspec": {
   "display_name": "Python 3",
   "language": "python",
   "name": "python3"
  },
  "language_info": {
   "codemirror_mode": {
    "name": "ipython",
    "version": 3
   },
   "file_extension": ".py",
   "mimetype": "text/x-python",
   "name": "python",
   "nbconvert_exporter": "python",
   "pygments_lexer": "ipython3",
   "version": "3.7.4"
  }
 },
 "nbformat": 4,
 "nbformat_minor": 2
}
